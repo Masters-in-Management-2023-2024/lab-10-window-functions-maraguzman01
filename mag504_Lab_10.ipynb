{
  "cells": [
    {
      "cell_type": "markdown",
      "metadata": {
        "id": "45Br_2rzzIaW"
      },
      "source": [
        "# OPAN5505 Lab 3 Assignment\n",
        "\n",
        "## Background\n",
        "\n",
        "You've been engaged by the Federal Aviation Administration to perform an analysis on \"strike\" data. A \"strike\" refers to when an aircraft and an object within the air (typically wildlife) collide."
      ]
    },
    {
      "cell_type": "markdown",
      "metadata": {
        "id": "Xyj4ShFgzIaX"
      },
      "source": [
        "## Prepare your environment\n",
        "\n",
        "You will need the `polars` package for this assignment. We'll also use `datetime` for date handling."
      ]
    },
    {
      "cell_type": "code",
      "execution_count": 2,
      "metadata": {
        "id": "gv947qlpzIaX"
      },
      "outputs": [],
      "source": [
        "# Import required libraries\n",
        "\n",
        "import polars as pl\n",
        "from datetime import datetime"
      ]
    },
    {
      "cell_type": "markdown",
      "metadata": {
        "id": "7TmWkvglzIaY"
      },
      "source": [
        "## Load your dataset\n",
        "\n",
        "Read the `faa_strikes.txt` dataset into Polars. Name the resulting DataFrame `strikes`."
      ]
    },
    {
      "cell_type": "code",
      "execution_count": 3,
      "metadata": {
        "id": "9zJH6YzazIaY"
      },
      "outputs": [],
      "source": [
        "# Read the faa_strikes.txt data\n",
        "\n",
        "strikes = pl.read_csv(\"/content/faa_strikes.txt\", truncate_ragged_lines=True, separator=\"\\t\")\n",
        "\n",
        "strikes = strikes.rename({col: col.strip() for col in strikes.columns})"
      ]
    },
    {
      "cell_type": "markdown",
      "metadata": {
        "id": "M1jHP8UezIaY"
      },
      "source": [
        "## Question 1: Running total of strikes by day through 2013\n",
        "\n",
        "You are interested in seeing the running total of strikes over time (`Collision Date and Time`) on a daily basis. Using the `strikes` dataframe, create a new column that removes the time information but keeps the date information from the `Collision Date and Time` column (call this new field `date`). Next, aggregate the `Number of Strikes` by day (call this new field `daily_strikes`). Sort the data in ascending order by `date`. Then, create the running total of `daily_strikes` (name the new field `strikes_cumulative`) and filter to only the records **up to and including** the `date` of 2013-12-31. Name the resulting data frame `running_total_strikes`.\n",
        "\n",
        "*Please place a Python code block and code below. The output should be a DataFrame. You must use a window function to receive credit on this question.*"
      ]
    },
    {
      "cell_type": "code",
      "execution_count": 18,
      "metadata": {
        "id": "uLgcOdUMzIaY",
        "colab": {
          "base_uri": "https://localhost:8080/",
          "height": 438
        },
        "outputId": "5a39dfd7-ac63-41d7-c485-dcd9a5e34d01"
      },
      "outputs": [
        {
          "output_type": "display_data",
          "data": {
            "text/plain": [
              "shape: (4_776, 3)\n",
              "┌────────────┬───────────────┬────────────────────┐\n",
              "│ date       ┆ daily_strikes ┆ strikes_cumulative │\n",
              "│ ---        ┆ ---           ┆ ---                │\n",
              "│ date       ┆ i64           ┆ i64                │\n",
              "╞════════════╪═══════════════╪════════════════════╡\n",
              "│ 2000-01-02 ┆ 1             ┆ 1                  │\n",
              "│ 2000-01-03 ┆ 2             ┆ 3                  │\n",
              "│ 2000-01-05 ┆ 3             ┆ 6                  │\n",
              "│ 2000-01-06 ┆ 1             ┆ 7                  │\n",
              "│ 2000-01-08 ┆ 4             ┆ 11                 │\n",
              "│ …          ┆ …             ┆ …                  │\n",
              "│ 2013-12-27 ┆ 6             ┆ 24096              │\n",
              "│ 2013-12-28 ┆ 1             ┆ 24097              │\n",
              "│ 2013-12-29 ┆ 2             ┆ 24099              │\n",
              "│ 2013-12-30 ┆ 4             ┆ 24103              │\n",
              "│ 2013-12-31 ┆ 6             ┆ 24109              │\n",
              "└────────────┴───────────────┴────────────────────┘"
            ],
            "text/html": [
              "<div><style>\n",
              ".dataframe > thead > tr,\n",
              ".dataframe > tbody > tr {\n",
              "  text-align: right;\n",
              "  white-space: pre-wrap;\n",
              "}\n",
              "</style>\n",
              "<small>shape: (4_776, 3)</small><table border=\"1\" class=\"dataframe\"><thead><tr><th>date</th><th>daily_strikes</th><th>strikes_cumulative</th></tr><tr><td>date</td><td>i64</td><td>i64</td></tr></thead><tbody><tr><td>2000-01-02</td><td>1</td><td>1</td></tr><tr><td>2000-01-03</td><td>2</td><td>3</td></tr><tr><td>2000-01-05</td><td>3</td><td>6</td></tr><tr><td>2000-01-06</td><td>1</td><td>7</td></tr><tr><td>2000-01-08</td><td>4</td><td>11</td></tr><tr><td>&hellip;</td><td>&hellip;</td><td>&hellip;</td></tr><tr><td>2013-12-27</td><td>6</td><td>24096</td></tr><tr><td>2013-12-28</td><td>1</td><td>24097</td></tr><tr><td>2013-12-29</td><td>2</td><td>24099</td></tr><tr><td>2013-12-30</td><td>4</td><td>24103</td></tr><tr><td>2013-12-31</td><td>6</td><td>24109</td></tr></tbody></table></div>"
            ]
          },
          "metadata": {}
        }
      ],
      "source": [
        "# Your code here\n",
        "\n",
        "import polars as pl\n",
        "import datetime as dt\n",
        "\n",
        "running_total_strikes = (\n",
        "    strikes.with_columns(pl.col(\"Collision Date and Time\")\n",
        "          .str.strptime(pl.Datetime, format=\"%Y-%m-%dT%H:%M:%SZ\", strict=False)\n",
        "          .cast(pl.Date).alias(\"date\")\n",
        "    )\n",
        "    .group_by(\"date\", maintain_order=True).agg(\n",
        "        pl.col(\"Number of Strikes\").sum().alias(\"daily_strikes\")\n",
        "    ).sort(\"date\").with_columns(pl.lit(1).alias(\"_all\"))\n",
        "    .with_columns(pl.col(\"daily_strikes\").cum_sum().over(\"_all\")\n",
        "    .alias(\"strikes_cumulative\")\n",
        "    )\n",
        "    .drop(\"_all\").filter(pl.col(\"date\") <= dt.date(2013, 12, 31))\n",
        ")\n",
        "\n",
        "display(running_total_strikes)"
      ]
    },
    {
      "cell_type": "markdown",
      "metadata": {
        "id": "sNAnbJdszIaY"
      },
      "source": [
        "## Question 2: States with the third highest financial cost\n",
        "\n",
        "The FAA is interested in the financial cost of strikes for each `Origin State`. Using the `strikes` dataframe: first, sum `Cost: Total $` by `Origin State` (name the resulting column `damage`) then `rank` these states in order of which state had the most financial `damage` (name the new column with rank information, `ranking`). Next, filter to show the row with the third highest `ranking`. Use a window function to answer this question. Name the resulting dataframe `damage_state`.\n",
        "\n",
        "*Please place a Python code block and code below. The output should be a DataFrame. You must use a window function to receive credit on this question.*"
      ]
    },
    {
      "cell_type": "code",
      "execution_count": 20,
      "metadata": {
        "id": "b1IefiCDzIaY",
        "colab": {
          "base_uri": "https://localhost:8080/",
          "height": 128
        },
        "outputId": "0fede7e8-7c53-441c-d672-9cac719e1b4a"
      },
      "outputs": [
        {
          "output_type": "display_data",
          "data": {
            "text/plain": [
              "shape: (1, 3)\n",
              "┌──────────────┬──────────┬─────────┐\n",
              "│ Origin State ┆ damage   ┆ ranking │\n",
              "│ ---          ┆ ---      ┆ ---     │\n",
              "│ str          ┆ i64      ┆ u32     │\n",
              "╞══════════════╪══════════╪═════════╡\n",
              "│ California   ┆ 29671432 ┆ 3       │\n",
              "└──────────────┴──────────┴─────────┘"
            ],
            "text/html": [
              "<div><style>\n",
              ".dataframe > thead > tr,\n",
              ".dataframe > tbody > tr {\n",
              "  text-align: right;\n",
              "  white-space: pre-wrap;\n",
              "}\n",
              "</style>\n",
              "<small>shape: (1, 3)</small><table border=\"1\" class=\"dataframe\"><thead><tr><th>Origin State</th><th>damage</th><th>ranking</th></tr><tr><td>str</td><td>i64</td><td>u32</td></tr></thead><tbody><tr><td>&quot;California&quot;</td><td>29671432</td><td>3</td></tr></tbody></table></div>"
            ]
          },
          "metadata": {}
        }
      ],
      "source": [
        "# Your code here\n",
        "\n",
        "damage_state = (\n",
        "    strikes.group_by(\"Origin State\").agg(\n",
        "        pl.col(\"Cost: Total $\").sum().alias(\"damage\")\n",
        "    ).with_columns(pl.col(\"damage\").rank(method=\"min\", descending=True).alias(\"ranking\"))\n",
        "    .filter(pl.col(\"ranking\") == 3)\n",
        ")\n",
        "\n",
        "display(damage_state)\n"
      ]
    },
    {
      "cell_type": "markdown",
      "metadata": {
        "id": "r6zqdVqGzIaY"
      },
      "source": [
        "## Question 3: What are the second costliest Species Groups for each Aircraft Type?\n",
        "\n",
        "The FAA wants to know if some species groups are more dangerous to particular types of aircraft. Using the `strikes` dataframe: first, sum financial damage (`Cost: Total $`) information by `Aircraft: Type` and `Wildlife: Species Group` (name the new field `damage`). Rank the rows within each `Aircraft: Type` based on the greatest amount of `damage`; when performing the ranking function, name the new column `ranking`. Return the rows that represent the `Wildlife: Species Group` values that caused the **second most** financial `damage` to each `Aircraft: Type`. Name the resulting dataframe `type_species`.\n",
        "\n",
        "*Please place a Python code block and code below. The output should be a DataFrame. You must use a ranking function to receive credit on this question.*"
      ]
    },
    {
      "cell_type": "code",
      "execution_count": 23,
      "metadata": {
        "id": "TeSkDg5ozIaY",
        "colab": {
          "base_uri": "https://localhost:8080/",
          "height": 128
        },
        "outputId": "748226e2-2816-4c5b-b095-3ff1668e9539"
      },
      "outputs": [
        {
          "output_type": "execute_result",
          "data": {
            "text/plain": [
              "shape: (1, 4)\n",
              "┌────────────────┬─────────────────────────┬──────────┬─────────┐\n",
              "│ Aircraft: Type ┆ Wildlife: Species Group ┆ damage   ┆ ranking │\n",
              "│ ---            ┆ ---                     ┆ ---      ┆ ---     │\n",
              "│ str            ┆ str                     ┆ i64      ┆ u32     │\n",
              "╞════════════════╪═════════════════════════╪══════════╪═════════╡\n",
              "│ Airplane       ┆ Kites, Hawks, Eagles    ┆ 48989287 ┆ 2       │\n",
              "└────────────────┴─────────────────────────┴──────────┴─────────┘"
            ],
            "text/html": [
              "<div><style>\n",
              ".dataframe > thead > tr,\n",
              ".dataframe > tbody > tr {\n",
              "  text-align: right;\n",
              "  white-space: pre-wrap;\n",
              "}\n",
              "</style>\n",
              "<small>shape: (1, 4)</small><table border=\"1\" class=\"dataframe\"><thead><tr><th>Aircraft: Type</th><th>Wildlife: Species Group</th><th>damage</th><th>ranking</th></tr><tr><td>str</td><td>str</td><td>i64</td><td>u32</td></tr></thead><tbody><tr><td>&quot;Airplane&quot;</td><td>&quot;Kites, Hawks, Eagles&quot;</td><td>48989287</td><td>2</td></tr></tbody></table></div>"
            ]
          },
          "metadata": {},
          "execution_count": 23
        }
      ],
      "source": [
        "# Your code here\n",
        "\n",
        "type_species = (strikes\n",
        "                .group_by([\"Aircraft: Type\", \"Wildlife: Species Group\"]).agg(\n",
        "    pl.col(\"Cost: Total $\").sum().alias(\"damage\")\n",
        ").with_columns(pl.col(\"damage\").rank(method=\"min\", descending=True)\n",
        ".alias(\"ranking\"))\n",
        ".filter(pl.col(\"ranking\") == 2))\n",
        "\n",
        "type_species"
      ]
    },
    {
      "cell_type": "markdown",
      "metadata": {
        "id": "1-Jyf-56zIaZ"
      },
      "source": [
        "## Question 4: Which days had the greatest positive jump in strikes?\n",
        "\n",
        "The FAA wants to investigate which days had the largest increase in strikes from the previous day. Using the `strikes` dataframe: sum the `Number of Strikes` measure by day (note: not by day and time). You can use a similar technique from Question 1 to create a new column from `Collision Date and Time` without time information and with date information (name this column `date`). Next, compute the previous day's strikes using a window function (name the new column `previous_day`), and calculate the difference of strikes between the current day and the previous day (name the new column `delta_strikes`). Sort the resulting data by `delta_strikes` in descending order to find which days had the highest increase of strikes from the previous day. Name the resulting dataframe `greatest_strike_increase`.\n",
        "\n",
        "**Hint:** This code is more involved that other exercises, so I will explicitly name the steps to answer the question.\n",
        "\n",
        "1. Start with the `strikes` data frame\n",
        "2. Create a new column called `date` which removes the time information in the `Collision Date and Time` column\n",
        "3. Sum the `Number of Strikes` by `date`, and name the new column `daily_strikes`\n",
        "4. Sort by the `date` column in ascending order\n",
        "5. Create a new column called `previous_day` to calculate what the `daily_strikes` were in the previous day\n",
        "6. Create a new column called `delta_strikes` which subtracts `previous_day` from `daily_strikes`\n",
        "7. Sort in descending order by `delta_strikes`\n",
        "\n",
        "*Please place a Python code block and code below. The output should be a DataFrame. You must use a window function to receive credit on this question.*"
      ]
    },
    {
      "cell_type": "code",
      "execution_count": 28,
      "metadata": {
        "id": "qNKaS_OqzIaZ",
        "colab": {
          "base_uri": "https://localhost:8080/",
          "height": 438
        },
        "outputId": "32ab5011-7cee-44f2-bb90-dc4d3ee4f90f"
      },
      "outputs": [
        {
          "output_type": "execute_result",
          "data": {
            "text/plain": [
              "shape: (5_285, 4)\n",
              "┌────────────┬───────────────┬──────────────┬───────────────┐\n",
              "│ date       ┆ daily_strikes ┆ previous_day ┆ delta_strikes │\n",
              "│ ---        ┆ ---           ┆ ---          ┆ ---           │\n",
              "│ date       ┆ i64           ┆ i64          ┆ i64           │\n",
              "╞════════════╪═══════════════╪══════════════╪═══════════════╡\n",
              "│ 2000-01-02 ┆ 1             ┆ null         ┆ null          │\n",
              "│ 2010-10-29 ┆ 25            ┆ 7            ┆ 18            │\n",
              "│ 2014-08-25 ┆ 25            ┆ 8            ┆ 17            │\n",
              "│ 2012-06-28 ┆ 21            ┆ 5            ┆ 16            │\n",
              "│ 2009-07-07 ┆ 21            ┆ 7            ┆ 14            │\n",
              "│ …          ┆ …             ┆ …            ┆ …             │\n",
              "│ 2012-06-29 ┆ 6             ┆ 21           ┆ -15           │\n",
              "│ 2012-10-14 ┆ 5             ┆ 20           ┆ -15           │\n",
              "│ 2014-08-26 ┆ 10            ┆ 25           ┆ -15           │\n",
              "│ 2014-10-29 ┆ 5             ┆ 24           ┆ -19           │\n",
              "│ 2013-08-20 ┆ 8             ┆ 28           ┆ -20           │\n",
              "└────────────┴───────────────┴──────────────┴───────────────┘"
            ],
            "text/html": [
              "<div><style>\n",
              ".dataframe > thead > tr,\n",
              ".dataframe > tbody > tr {\n",
              "  text-align: right;\n",
              "  white-space: pre-wrap;\n",
              "}\n",
              "</style>\n",
              "<small>shape: (5_285, 4)</small><table border=\"1\" class=\"dataframe\"><thead><tr><th>date</th><th>daily_strikes</th><th>previous_day</th><th>delta_strikes</th></tr><tr><td>date</td><td>i64</td><td>i64</td><td>i64</td></tr></thead><tbody><tr><td>2000-01-02</td><td>1</td><td>null</td><td>null</td></tr><tr><td>2010-10-29</td><td>25</td><td>7</td><td>18</td></tr><tr><td>2014-08-25</td><td>25</td><td>8</td><td>17</td></tr><tr><td>2012-06-28</td><td>21</td><td>5</td><td>16</td></tr><tr><td>2009-07-07</td><td>21</td><td>7</td><td>14</td></tr><tr><td>&hellip;</td><td>&hellip;</td><td>&hellip;</td><td>&hellip;</td></tr><tr><td>2012-06-29</td><td>6</td><td>21</td><td>-15</td></tr><tr><td>2012-10-14</td><td>5</td><td>20</td><td>-15</td></tr><tr><td>2014-08-26</td><td>10</td><td>25</td><td>-15</td></tr><tr><td>2014-10-29</td><td>5</td><td>24</td><td>-19</td></tr><tr><td>2013-08-20</td><td>8</td><td>28</td><td>-20</td></tr></tbody></table></div>"
            ]
          },
          "metadata": {},
          "execution_count": 28
        }
      ],
      "source": [
        "# Your code here\n",
        "import polars as pl\n",
        "import datetime as dt\n",
        "\n",
        "greatest_strike_increase = (strikes.with_columns(\n",
        "    pl.col(\"Collision Date and Time\")\n",
        "    .str.strptime(pl.Datetime, format=\"%Y-%m-%dT%H:%M:%SZ\", strict=False)\n",
        "    .cast(pl.Date).alias(\"date\")\n",
        ")\n",
        ".group_by(\"date\", maintain_order=True).agg(\n",
        "    pl.col(\"Number of Strikes\").sum().alias(\"daily_strikes\")\n",
        ")\n",
        ".sort(\"date\")\n",
        ".with_columns(\n",
        "    pl.col(\"daily_strikes\").shift(1).alias(\"previous_day\")\n",
        ").with_columns(\n",
        "    (pl.col(\"daily_strikes\") - pl.col(\"previous_day\")).alias(\"delta_strikes\")\n",
        ").sort(\"delta_strikes\", descending=True)\n",
        ")\n",
        "\n",
        "greatest_strike_increase"
      ]
    },
    {
      "cell_type": "markdown",
      "metadata": {
        "id": "xY5j0HX3zIaZ"
      },
      "source": [
        "## Question 5: Which single day had the greatest increase in strikes for each `Aircraft: Type`?\n",
        "\n",
        "FAA was interested in the exercise from the last question but now wants to determine the largest delta between days for each `Aircraft: Type`. What are the days that had largest positive change in strikes for each `Aircraft: Type`? In order to answer this question, you will need to perform the exercise from Question 4, but this time include a grouping by `Aircraft: Type`. After grouping by `Aircraft: Type`, add a column called `ranking` and use a window function to determine the day with the largest increase in strikes from the previous day. Name the resulting data frame `greatest_strike_increase_type`\n",
        "\n",
        "NOTE: Helicopters are not struck with a high frequency and will not show up in your analysis; this is fine."
      ]
    },
    {
      "cell_type": "code",
      "execution_count": 31,
      "metadata": {
        "id": "MwTKce61zIaZ",
        "colab": {
          "base_uri": "https://localhost:8080/",
          "height": 283
        },
        "outputId": "7171ebec-99ae-4a9a-cae9-d17d69d3474b"
      },
      "outputs": [
        {
          "output_type": "execute_result",
          "data": {
            "text/plain": [
              "shape: (6, 6)\n",
              "┌────────────────┬────────────┬───────────────┬──────────────┬───────────────┬─────────┐\n",
              "│ Aircraft: Type ┆ date       ┆ daily_strikes ┆ previous_day ┆ delta_strikes ┆ ranking │\n",
              "│ ---            ┆ ---        ┆ ---           ┆ ---          ┆ ---           ┆ ---     │\n",
              "│ str            ┆ date       ┆ i64           ┆ i64          ┆ i64           ┆ u32     │\n",
              "╞════════════════╪════════════╪═══════════════╪══════════════╪═══════════════╪═════════╡\n",
              "│ Airplane       ┆ 2014-08-25 ┆ 25            ┆ 8            ┆ 17            ┆ 1       │\n",
              "│ Helicopter     ┆ 2010-07-21 ┆ 2             ┆ 1            ┆ 1             ┆ 1       │\n",
              "│ Helicopter     ┆ 2012-11-02 ┆ 2             ┆ 1            ┆ 1             ┆ 1       │\n",
              "│ Helicopter     ┆ 2013-10-28 ┆ 2             ┆ 1            ┆ 1             ┆ 1       │\n",
              "│ Helicopter     ┆ 2014-08-14 ┆ 2             ┆ 1            ┆ 1             ┆ 1       │\n",
              "│ NA             ┆ 2014-08-04 ┆ 5             ┆ 1            ┆ 4             ┆ 1       │\n",
              "└────────────────┴────────────┴───────────────┴──────────────┴───────────────┴─────────┘"
            ],
            "text/html": [
              "<div><style>\n",
              ".dataframe > thead > tr,\n",
              ".dataframe > tbody > tr {\n",
              "  text-align: right;\n",
              "  white-space: pre-wrap;\n",
              "}\n",
              "</style>\n",
              "<small>shape: (6, 6)</small><table border=\"1\" class=\"dataframe\"><thead><tr><th>Aircraft: Type</th><th>date</th><th>daily_strikes</th><th>previous_day</th><th>delta_strikes</th><th>ranking</th></tr><tr><td>str</td><td>date</td><td>i64</td><td>i64</td><td>i64</td><td>u32</td></tr></thead><tbody><tr><td>&quot;Airplane&quot;</td><td>2014-08-25</td><td>25</td><td>8</td><td>17</td><td>1</td></tr><tr><td>&quot;Helicopter&quot;</td><td>2010-07-21</td><td>2</td><td>1</td><td>1</td><td>1</td></tr><tr><td>&quot;Helicopter&quot;</td><td>2012-11-02</td><td>2</td><td>1</td><td>1</td><td>1</td></tr><tr><td>&quot;Helicopter&quot;</td><td>2013-10-28</td><td>2</td><td>1</td><td>1</td><td>1</td></tr><tr><td>&quot;Helicopter&quot;</td><td>2014-08-14</td><td>2</td><td>1</td><td>1</td><td>1</td></tr><tr><td>&quot;NA&quot;</td><td>2014-08-04</td><td>5</td><td>1</td><td>4</td><td>1</td></tr></tbody></table></div>"
            ]
          },
          "metadata": {},
          "execution_count": 31
        }
      ],
      "source": [
        "# Your code here\n",
        "\n",
        "import polars as pl\n",
        "import datetime as dt\n",
        "\n",
        "greatest_strike_increase_type = (\n",
        "    strikes\n",
        "    .with_columns(\n",
        "        pl.col(\"Collision Date and Time\")\n",
        "        .str.strptime(pl.Datetime, \"%Y-%m-%dT%H:%M:%SZ\", strict=False)\n",
        "        .cast(pl.Date).alias(\"date\")\n",
        "    )\n",
        "    .group_by([\"Aircraft: Type\", \"date\"], maintain_order=True).agg(\n",
        "        pl.col(\"Number of Strikes\").sum().alias(\"daily_strikes\")\n",
        "    ).sort([\"Aircraft: Type\", \"date\"]).with_columns(\n",
        "        pl.col(\"daily_strikes\").shift(1).over(\"Aircraft: Type\")\n",
        "        .alias(\"previous_day\")\n",
        "    ).with_columns(\n",
        "        (pl.col(\"daily_strikes\") - pl.col(\"previous_day\")).alias(\"delta_strikes\")\n",
        "    )\n",
        "    .filter(pl.col(\"previous_day\").is_not_null() & (pl.col(\"delta_strikes\") > 0))\n",
        "    .with_columns(pl.col(\"delta_strikes\")\n",
        "        .rank(method=\"min\", descending=True)\n",
        "        .over(\"Aircraft: Type\").alias(\"ranking\")\n",
        "    )\n",
        "    .filter(pl.col(\"ranking\") == 1).sort(\"Aircraft: Type\")\n",
        ")\n",
        "\n",
        "greatest_strike_increase_type\n",
        "\n",
        "\n"
      ]
    }
  ],
  "metadata": {
    "kernelspec": {
      "display_name": "Python 3",
      "language": "python",
      "name": "python3"
    },
    "language_info": {
      "codemirror_mode": {
        "name": "ipython",
        "version": 3
      },
      "file_extension": ".py",
      "mimetype": "text/x-python",
      "name": "python",
      "nbconvert_exporter": "python",
      "pygments_lexer": "ipython3",
      "version": "3.8.0"
    },
    "colab": {
      "provenance": []
    }
  },
  "nbformat": 4,
  "nbformat_minor": 0
}